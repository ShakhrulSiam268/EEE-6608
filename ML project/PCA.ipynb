{
 "cells": [
  {
   "cell_type": "code",
   "execution_count": 119,
   "id": "3ffbf1e4",
   "metadata": {},
   "outputs": [],
   "source": [
    "import numpy as np\n",
    "import pandas as pd\n",
    "from sklearn.datasets import load_digits\n",
    "import matplotlib.pyplot as plt"
   ]
  },
  {
   "cell_type": "code",
   "execution_count": 120,
   "id": "bc4b061b",
   "metadata": {},
   "outputs": [],
   "source": [
    "x, y =load_digits()['data'], load_digits()['target']"
   ]
  },
  {
   "cell_type": "code",
   "execution_count": 121,
   "id": "b60cfcf6",
   "metadata": {},
   "outputs": [
    {
     "data": {
      "text/plain": [
       "<matplotlib.image.AxesImage at 0x7fbe62be6a30>"
      ]
     },
     "execution_count": 121,
     "metadata": {},
     "output_type": "execute_result"
    },
    {
     "data": {
      "image/png": "[encoded data removed]",
      "text/plain": [
       "<Figure size 432x288 with 1 Axes>"
      ]
     },
     "metadata": {
      "needs_background": "light"
     },
     "output_type": "display_data"
    }
   ],
   "source": [
    "im = x[1].reshape((8,8))\n",
    "plt.imshow(im)"
   ]
  },
  {
   "cell_type": "code",
   "execution_count": 89,
   "id": "c1328672",
   "metadata": {},
   "outputs": [],
   "source": [
    "def PCA(X , num_components): \n",
    "    X_meaned = X - np.mean(X , axis = 0)\n",
    "    cov_mat = np.cov(X_meaned , rowvar = False)\n",
    "    \n",
    "    eigen_values , eigen_vectors = np.linalg.eigh(cov_mat)\n",
    "    sorted_index = np.argsort(eigen_values)[::-1]\n",
    "    sorted_eigenvalue = eigen_values[sorted_index]\n",
    "    print(sorted_eigenvalue.shape)\n",
    "    sorted_eigenvectors = eigen_vectors[:,sorted_index]   \n",
    "    eigenvector_subset = sorted_eigenvectors[:,0:num_components]\n",
    "    print(eigenvector_subset.shape, X_meaned.shape)\n",
    "    X_reduced = np.dot(eigenvector_subset.transpose() , X_meaned.transpose() ).transpose()\n",
    "    return X_reduced"
   ]
  },
  {
   "cell_type": "code",
   "execution_count": 90,
   "id": "91a6e1c0",
   "metadata": {},
   "outputs": [
    {
     "name": "stdout",
     "output_type": "stream",
     "text": [
      "(64,)\n",
      "(64, 10) (1797, 64)\n"
     ]
    }
   ],
   "source": [
    "X_reduced = PCA(np.array(x),10)"
   ]
  },
  {
   "cell_type": "code",
   "execution_count": 117,
   "id": "43c82cb6",
   "metadata": {},
   "outputs": [],
   "source": [
    "def PCA(X , perc):\n",
    "    X_meaned = X - np.mean(X , axis = 0)\n",
    "    cov_mat = np.cov(X_meaned , rowvar = False)\n",
    "    eigen_values , eigen_vectors = np.linalg.eigh(cov_mat)\n",
    "    sorted_index = np.argsort(eigen_values)[::-1]\n",
    "    sorted_eigenvalue = eigen_values[sorted_index]\n",
    "    sorted_eigenvectors = eigen_vectors[:,sorted_index]\n",
    "    sum_temp_trace=0\n",
    "    feat_count = 0\n",
    "    val=[]\n",
    "    \n",
    "    sum_trace = sum(sorted_eigenvalue) \n",
    "    for eigv in sorted_eigenvalue:\n",
    "        sum_temp_trace += eigv\n",
    "        energy = sum_temp_trace/sum_trace\n",
    "        val.append(energy)\n",
    "        if energy<perc:\n",
    "            feat_count+=1\n",
    "    plt.plot(val)\n",
    "    plt.axhline(y=perc, c='red')\n",
    "    eigenvector_subset = sorted_eigenvectors[:,0:feat_count]\n",
    "    print(eigenvector_subset.shape, X_meaned.shape)\n",
    "    X_reduced = np.dot(eigenvector_subset.transpose() , X_meaned.transpose() ).transpose()\n",
    "    return X_reduced"
   ]
  },
  {
   "cell_type": "code",
   "execution_count": 118,
   "id": "cfee8c14",
   "metadata": {},
   "outputs": [
    {
     "name": "stdout",
     "output_type": "stream",
     "text": [
      "(64, 20) (1797, 64)\n"
     ]
    },
    {
     "data": {
      "image/png": "[encoded data removed]",
      "text/plain": [
       "<Figure size 432x288 with 1 Axes>"
      ]
     },
     "metadata": {
      "needs_background": "light"
     },
     "output_type": "display_data"
    }
   ],
   "source": [
    "X_reduced = PCA(np.array(x),0.9)"
   ]
  },
  {
   "cell_type": "code",
   "execution_count": 112,
   "id": "25e3f439",
   "metadata": {},
   "outputs": [
    {
     "data": {
      "text/plain": [
       "(1797, 20)"
      ]
     },
     "execution_count": 112,
     "metadata": {},
     "output_type": "execute_result"
    }
   ],
   "source": [
    "X_reduced.shape"
   ]
  },
  {
   "cell_type": "code",
   "execution_count": null,
   "id": "fc65c364",
   "metadata": {},
   "outputs": [],
   "source": []
  }
 ],
 "metadata": {
  "kernelspec": {
   "display_name": "Python 3 (ipykernel)",
   "language": "python",
   "name": "python3"
  },
  "language_info": {
   "codemirror_mode": {
    "name": "ipython",
    "version": 3
   },
   "file_extension": ".py",
   "mimetype": "text/x-python",
   "name": "python",
   "nbconvert_exporter": "python",
   "pygments_lexer": "ipython3",
   "version": "3.8.0"
  }
 },
 "nbformat": 4,
 "nbformat_minor": 5
}
